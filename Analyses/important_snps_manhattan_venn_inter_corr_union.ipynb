{
 "cells": [
  {
   "cell_type": "code",
   "execution_count": null,
   "metadata": {},
   "outputs": [],
   "source": [
    "%matplotlib inline\n",
    "import pandas as pd\n",
    "import numpy as np\n",
    "from pandas_plink import read_plink\n",
    "import matplotlib.pyplot as plt"
   ]
  },
  {
   "cell_type": "code",
   "execution_count": null,
   "metadata": {},
   "outputs": [],
   "source": [
    "pheno_id=14\n",
    "grad_clean=np.loadtxt(\"/ourdisk/hpc/nullspace/adbadre/auto_archive_notyet/tape_2copies/result_mean.csv\")"
   ]
  },
  {
   "cell_type": "code",
   "execution_count": null,
   "metadata": {},
   "outputs": [],
   "source": [
    "bim=pd.read_csv(\"/work/biobank/ukb_data/new_data/all.bim\",sep=\"\\t\",header=None)"
   ]
  },
  {
   "cell_type": "code",
   "execution_count": null,
   "metadata": {},
   "outputs": [],
   "source": [
    "chro=list(bim[0].values)+[27 for i in range(805426)]"
   ]
  },
  {
   "cell_type": "code",
   "execution_count": null,
   "metadata": {},
   "outputs": [],
   "source": [
    "grad_clean_loc=grad_clean[:,pheno_id]"
   ]
  },
  {
   "cell_type": "code",
   "execution_count": null,
   "metadata": {},
   "outputs": [],
   "source": [
    "a=pd.DataFrame(np.array([chro,grad_clean_loc]).T,columns=[\"CHR\",\"P\"])\n",
    "a=a.astype({'CHR': 'int32'})"
   ]
  },
  {
   "cell_type": "code",
   "execution_count": null,
   "metadata": {},
   "outputs": [],
   "source": [
    "th=\"0.001\"\n",
    "print(pd.read_csv(\"/ourdisk/hpc/nullspace/adbadre/auto_archive_notyet/tape_2copies/results_final_first_order_other_method.csv\",index_col=0)[th])"
   ]
  },
  {
   "cell_type": "code",
   "execution_count": null,
   "metadata": {},
   "outputs": [],
   "source": []
  },
  {
   "cell_type": "code",
   "execution_count": null,
   "metadata": {},
   "outputs": [],
   "source": [
    "'''manhattan plot'''\n",
    "df=a\n",
    "df['ind'] = range(len(df))\n",
    "df_grouped = df.groupby(('CHR'))\n",
    "fig,ax=plt.subplots(figsize=(50,20))\n",
    "colors = ['dimgrey', 'grey']\n",
    "x_labels = []\n",
    "x_labels_pos = []\n",
    "for num, (name, group) in enumerate(df_grouped):\n",
    "    '''Remove sex chromosomes and plot the rest of it'''\n",
    "    if name not in (23,24,25,26):\n",
    "        #print(name,group)\n",
    "        if name==27:\n",
    "            group.plot(kind='scatter', x='ind', y='P',color=\"orange\", ax=ax,fontsize=20,alpha=0.3)\n",
    "            x_labels_pos.append((group['ind'].iloc[-1] - (group['ind'].iloc[-1] - group['ind'].iloc[0])/2))\n",
    "        else:\n",
    "            group.plot(kind='scatter', x='ind', y='P',color=colors[num % len(colors)], ax=ax,fontsize=20)\n",
    "            x_labels_pos.append((group['ind'].iloc[-1] - (group['ind'].iloc[-1] - group['ind'].iloc[0])/2))\n",
    "        x_labels.append(name)\n",
    "        \n",
    "x_labels[-1]=\" \"\n",
    "ax.set_xticks(x_labels_pos)\n",
    "ax.set_xticklabels(x_labels)\n",
    "ax.set_xlim([0, len(df)])\n",
    "ax.axhline(np.sort(grad_clean_cerv)[::-1][65],color=\"purple\",label=\"0.1%\",linestyle=\"dashed\",linewidth=3)\n",
    "ax.axhline(np.sort(grad_clean_cerv)[::-1][64924],color=\"blue\",label=\"5%\",linestyle=\"dashed\",linewidth=3)\n",
    "ax.set_xlabel(' ')\n",
    "ax.set_ylabel(' ')\n",
    "plt.xticks(fontsize=25)\n",
    "plt.yticks(fontsize=25)\n",
    "plt.ticklabel_format(style='sci', axis='y',)\n",
    "plt.legend(fontsize=30)\n",
    "ax.set_ylim([-0.0001, 0.007])"
   ]
  },
  {
   "cell_type": "code",
   "execution_count": null,
   "metadata": {},
   "outputs": [],
   "source": [
    "'''Remove sex chromosomes'''\n",
    "one=grad_clean_cerv[:784256]\n",
    "two=grad_clean_cerv[805426:]\n",
    "tot=np.append(one,two)"
   ]
  },
  {
   "cell_type": "code",
   "execution_count": null,
   "metadata": {},
   "outputs": [],
   "source": [
    "'''make categories'''\n",
    "l=[\"Real SNPs\" if x<784256 else \"Decoy SNPs\" for x in range(len(tot))]"
   ]
  },
  {
   "cell_type": "code",
   "execution_count": null,
   "metadata": {},
   "outputs": [],
   "source": [
    "d=pd.DataFrame(np.array([tot.T.astype(float),l]).T)"
   ]
  },
  {
   "cell_type": "code",
   "execution_count": null,
   "metadata": {},
   "outputs": [],
   "source": [
    "d[0]=d[0].astype(float)"
   ]
  },
  {
   "cell_type": "code",
   "execution_count": null,
   "metadata": {},
   "outputs": [],
   "source": [
    "d"
   ]
  },
  {
   "cell_type": "code",
   "execution_count": null,
   "metadata": {
    "scrolled": true
   },
   "outputs": [],
   "source": [
    "fig,ax=plt.subplots(figsize=(20,10))\n",
    "d.groupby(1)[0].plot(kind=\"density\",legend=True,color = {'Real SNPs': 'grey', 'Decoy SNPs': 'orange'})\n",
    "ax.set_ylabel(\"\")\n",
    "ax.set_xlim([-0.0001, 0.007])\n",
    "ax.invert_xaxis()\n",
    "plt.tick_params(\n",
    "    axis='both',          # changes apply to the x-axis\n",
    "    labelsize=0, length = 0)\n",
    "plt.legend(fontsize=30)"
   ]
  },
  {
   "cell_type": "code",
   "execution_count": null,
   "metadata": {},
   "outputs": [],
   "source": [
    "'''Code to calculate the intersection sizes at 0.1%'''\n",
    "\n",
    "imp=pd.read_csv(\"/ourdisk/hpc/nullspace/adbadre/auto_archive_notyet/tape_2copies/results_final_first_order_other_method.csv\",index_col=0)[\"0.001\"]"
   ]
  },
  {
   "cell_type": "code",
   "execution_count": null,
   "metadata": {},
   "outputs": [],
   "source": [
    "imp"
   ]
  },
  {
   "cell_type": "code",
   "execution_count": null,
   "metadata": {},
   "outputs": [],
   "source": [
    "c=0\n",
    "snps=[]\n",
    "for i in imp:\n",
    "    print(i)\n",
    "    if np.isnan(i):\n",
    "        i=0\n",
    "    snps.append(np.argsort(grad_clean[:,c])[::-1][:int(i)])\n",
    "    c+=1"
   ]
  },
  {
   "cell_type": "code",
   "execution_count": null,
   "metadata": {
    "scrolled": true
   },
   "outputs": [],
   "source": [
    "imp"
   ]
  },
  {
   "cell_type": "code",
   "execution_count": null,
   "metadata": {},
   "outputs": [],
   "source": [
    "phenos=[x for x in range(17)]#[0,2,3,4,5,12,13,14,15,16]\n",
    "a=np.zeros((len(phenos),len(phenos)))\n",
    "d=imp.index.values[[phenos]]\n",
    "for i in range(len(phenos)):\n",
    "    for j in range(i+1,len(phenos)):\n",
    "        inter_1d_loc=np.intersect1d(snps[phenos[i]],snps[phenos[j]])\n",
    "        inter_1d_loc=inter_1d_loc[inter_1d_loc<784256]\n",
    "        a[i,j]=len(inter_1d_loc)\n",
    "        a[j,i]=len(inter_1d_loc)\n",
    "        print(d[i],d[j],np.intersect1d(snps[phenos[i]],snps[phenos[j]]))"
   ]
  },
  {
   "cell_type": "code",
   "execution_count": null,
   "metadata": {},
   "outputs": [],
   "source": [
    "a[np.isnan(a)]=0\n",
    "a"
   ]
  },
  {
   "cell_type": "code",
   "execution_count": null,
   "metadata": {
    "scrolled": false
   },
   "outputs": [],
   "source": [
    "df_a=pd.DataFrame(a,index=d,columns=d)"
   ]
  },
  {
   "cell_type": "code",
   "execution_count": null,
   "metadata": {},
   "outputs": [],
   "source": [
    "l=[\"malignant melanoma\",\"non-melanoma skin cancer\",\"skin cancer\",\"lung cancer\",\"intrathoracic cancer\",\"colorectal cancer\",\"colon cancer\",\"rectal cancer\",\"bladder cancer\",\"uterine cancer\",\"cervical cancer\",\"prostate cancer\",\"breast cancer\",\"female genital tract cancer\",\"male genital tract cancer\",\"lymphoma\",\"non-hodgkins lymphoma\"]\n",
    "\n",
    "i=['lung cancer', 'breast cancer', 'skin cancer',\n",
    "       'colorectal cancer', 'colon cancer',\n",
    "       'rectal cancer', 'bladder cancer', 'female genital tract cancer',\n",
    "       'male genital tract cancer', 'uterine cancer',\n",
    "       'cervical cancer', 'prostate cancer', 'lymphoma',\n",
    "       'non-hodgkins lymphoma', 'malignant melanoma',\n",
    "       'non-melanoma skin cancer', 'intrathoracic cancer']"
   ]
  },
  {
   "cell_type": "code",
   "execution_count": null,
   "metadata": {},
   "outputs": [],
   "source": [
    "df_a.index=i\n",
    "df_a.columns=i\n",
    "df_a=df_a.loc[l,l]"
   ]
  },
  {
   "cell_type": "code",
   "execution_count": null,
   "metadata": {},
   "outputs": [],
   "source": [
    "df_a"
   ]
  },
  {
   "cell_type": "code",
   "execution_count": null,
   "metadata": {},
   "outputs": [],
   "source": [
    "df_a.to_csv(\"/ourdisk/hpc/nullspace/adbadre/auto_archive_notyet/tape_2copies/intersect1d_tot_01_nums.csv\")"
   ]
  },
  {
   "cell_type": "code",
   "execution_count": null,
   "metadata": {},
   "outputs": [],
   "source": [
    "'''Code to plot Venn Diagrams'''\n",
    "th=\"0.001\"\n",
    "imp=pd.read_csv(\"/ourdisk/hpc/nullspace/adbadre/auto_archive_notyet/tape_2copies/results_final_first_order_other_method.csv\",index_col=0)[th]\n",
    "\n",
    "c=0\n",
    "snps=[]\n",
    "for i in imp:\n",
    "    #print(i)\n",
    "    if np.isnan(i):\n",
    "        i=0\n",
    "    snps.append(np.argsort(grad_clean[:,c])[::-1][:int(i)])\n",
    "    c+=1\n",
    "\n",
    "snpi=snps[phenos[14]]\n",
    "snpi=snpi[snpi<784256]\n",
    "print(imp.index.values[14],len(snpi))\n",
    "snpj=snps[phenos[9]]\n",
    "snpj=snpj[snpj<784256]\n",
    "print(imp.index.values[9],len(snpj))\n",
    "\n",
    "snpk=snps[phenos[3]]\n",
    "snpk=snpk[snpk<784256]\n",
    "print(imp.index.values[3],len(snpk))\n",
    "\n",
    "def plotVenn(snpi,snpj,snpk,namei,namej,namek):\n",
    "    dlpv=len(np.intersect1d(snpi,np.intersect1d(snpj,snpk)))\n",
    "    dl=len(np.intersect1d(snpi,snpj))-dlpv\n",
    "    interdl=np.intersect1d(snpi,snpj)\n",
    "    print(dlpv)\n",
    "    dpv=len(np.intersect1d(snpk,snpi))-dlpv\n",
    "    lpv=len(np.intersect1d(snpk,snpj))-dlpv\n",
    "    nd=len(snpi)-dlpv-dl-dpv\n",
    "    nl=len(snpj)-dlpv-lpv-dl\n",
    "    npv=len(snpk)-dlpv-lpv-dpv\n",
    "    plt.figure(figsize=(10,10))\n",
    "    v = venn3(subsets=(nl, nd, dl, npv, lpv, dpv, dlpv), set_labels = (namej,namei, namek))#(nl, nd, dl, npv, lpv, dpv, dlpv)\n",
    "    v.get_label_by_id('A').set_text('')\n",
    "    v.get_label_by_id('B').set_text('')\n",
    "    v.get_label_by_id('C').set_text('')\n",
    "    for text in v.subset_labels:\n",
    "        try:\n",
    "            text.set_fontsize(15)\n",
    "        except:\n",
    "            pass\n",
    "         arrowprops=dict(arrowstyle='->', connectionstyle='arc3,rad=0.5',color='gray'))\n",
    "    plt.show()\n",
    "\n",
    "plotVenn(snpi,snpj,snpk,imp.index.values[14],imp.index.values[9],imp.index.values[3])"
   ]
  },
  {
   "cell_type": "code",
   "execution_count": null,
   "metadata": {},
   "outputs": [],
   "source": [
    "'''Code to calculate union correlation'''\n",
    "imp=pd.read_csv(\"/ourdisk/hpc/nullspace/adbadre/auto_archive_notyet/tape_2copies/results_final_first_order_other_method.csv\",index_col=0)[\"0.05\"]"
   ]
  },
  {
   "cell_type": "code",
   "execution_count": null,
   "metadata": {},
   "outputs": [],
   "source": [
    "c=0\n",
    "snps=[]\n",
    "for i in imp:\n",
    "    print(i)\n",
    "    if np.isnan(i):\n",
    "        i=0\n",
    "    snps.append(np.argsort(grad_clean[:,c])[::-1][:int(i)])\n",
    "    c+=1"
   ]
  },
  {
   "cell_type": "code",
   "execution_count": null,
   "metadata": {},
   "outputs": [],
   "source": [
    "import scipy.stats"
   ]
  },
  {
   "cell_type": "code",
   "execution_count": null,
   "metadata": {},
   "outputs": [],
   "source": [
    "'''Calculate the union correlations'''\n",
    "phenos=[i for i in range(17)]\n",
    "a=np.zeros((len(phenos),len(phenos)))\n",
    "d=imp.index.values[[phenos]]\n",
    "inter_sex={}\n",
    "for i in range(len(phenos)):\n",
    "    for j in range(i+1,len(phenos)):\n",
    "        SNPsi=snps[phenos[i]]\n",
    "        SNPsj=snps[phenos[j]]\n",
    "        union_loc=np.union1d(SNPsi,SNPsj)\n",
    "        union_loc=union_loc[union_loc<784256]\n",
    "        loci=grad_clean[:,i][union_loc]\n",
    "        locj=grad_clean[:,j][union_loc]\n",
    "        a[i,j]=scipy.stats.spearmanr(loci,locj)[0]\n",
    "        a[j,i]=scipy.stats.spearmanr(loci,locj)[0]   \n",
    "df_a=pd.DataFrame(a,index=d,columns=d)"
   ]
  },
  {
   "cell_type": "code",
   "execution_count": null,
   "metadata": {},
   "outputs": [],
   "source": [
    "df_a.columns"
   ]
  },
  {
   "cell_type": "code",
   "execution_count": null,
   "metadata": {},
   "outputs": [],
   "source": [
    "l=[\"malignant melanoma\",\"non-melanoma skin cancer\",\"skin cancer\",\"lung cancer\",\"intrathoracic cancer\",\"colorectal cancer\",\"colon cancer\",\"rectal cancer\",\"bladder cancer\",\"uterine cancer\",\"cervical cancer\",\"prostate cancer\",\"breast cancer\",\"female genital tract cancer\",\"male genital tract cancer\",\"lymphoma\",\"non-hodgkins lymphoma\"]\n",
    "\n",
    "i=['lung cancer', 'breast cancer', 'skin cancer',\n",
    "       'colorectal cancer', 'colon cancer',\n",
    "       'rectal cancer', 'bladder cancer', 'female genital tract cancer',\n",
    "       'male genital tract cancer', 'uterine cancer',\n",
    "       'cervical cancer', 'prostate cancer', 'lymphoma',\n",
    "       'non-hodgkins lymphoma', 'malignant melanoma',\n",
    "       'non-melanoma skin cancer', 'intrathoracic cancer']"
   ]
  },
  {
   "cell_type": "code",
   "execution_count": null,
   "metadata": {},
   "outputs": [],
   "source": []
  },
  {
   "cell_type": "code",
   "execution_count": null,
   "metadata": {},
   "outputs": [],
   "source": [
    "df_a.index=i\n",
    "df_a.columns=i\n",
    "df_a=df_a.loc[l,l]"
   ]
  },
  {
   "cell_type": "code",
   "execution_count": null,
   "metadata": {},
   "outputs": [],
   "source": [
    "df_a[df_a>=0.5].count().sum()"
   ]
  },
  {
   "cell_type": "code",
   "execution_count": null,
   "metadata": {},
   "outputs": [],
   "source": [
    "df_a[df_a<0].count().sum()"
   ]
  },
  {
   "cell_type": "code",
   "execution_count": null,
   "metadata": {},
   "outputs": [],
   "source": [
    "intermediate=df_a[df_a>=0]\n",
    "intermediate[intermediate<0.5].count().sum()"
   ]
  },
  {
   "cell_type": "code",
   "execution_count": null,
   "metadata": {},
   "outputs": [],
   "source": [
    "df_a.to_csv(\"/ourdisk/hpc/nullspace/adbadre/auto_archive_notyet/tape_2copies/union1d_5.csv\")"
   ]
  },
  {
   "cell_type": "code",
   "execution_count": null,
   "metadata": {},
   "outputs": [],
   "source": []
  }
 ],
 "metadata": {
  "kernelspec": {
   "display_name": "Python 3",
   "language": "python",
   "name": "python3"
  },
  "language_info": {
   "codemirror_mode": {
    "name": "ipython",
    "version": 3
   },
   "file_extension": ".py",
   "mimetype": "text/x-python",
   "name": "python",
   "nbconvert_exporter": "python",
   "pygments_lexer": "ipython3",
   "version": "3.9.12"
  }
 },
 "nbformat": 4,
 "nbformat_minor": 2
}
