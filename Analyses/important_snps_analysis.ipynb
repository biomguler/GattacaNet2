{
 "cells": [
  {
   "cell_type": "code",
   "execution_count": null,
   "id": "18637593",
   "metadata": {},
   "outputs": [],
   "source": [
    "%matplotlib inline\n",
    "import matplotlib.pyplot as plt\n",
    "import pandas as pd\n",
    "import json\n",
    "from pandas_plink import read_plink\n",
    "import sklearn.metrics as metrics\n",
    "import numpy as np"
   ]
  },
  {
   "cell_type": "code",
   "execution_count": null,
   "id": "d6ad8a3a",
   "metadata": {},
   "outputs": [],
   "source": [
    "grad_clean=np.loadtxt(\"/ourdisk/hpc/nullspace/adbadre/auto_archive_notyet/tape_2copies/result_mean.csv\")"
   ]
  },
  {
   "cell_type": "code",
   "execution_count": null,
   "id": "04da60ea",
   "metadata": {},
   "outputs": [],
   "source": [
    " ranked=np.argsort(grad_clean[:,0])"
   ]
  },
  {
   "cell_type": "code",
   "execution_count": null,
   "id": "d8f02280",
   "metadata": {},
   "outputs": [],
   "source": [
    "'''Code to calculate the number of SNPs at 0.1% and 5% FDR'''\n",
    "thresholds=[0.001,0.05]\n",
    "start=100000\n",
    "phenos_scores=[]\n",
    "values_per_threshold=[]\n",
    "for ph in range(grad_clean.shape[1]):\n",
    "    scores={}\n",
    "    values=[]\n",
    "    ranked=np.argsort(grad_clean[:,ph])\n",
    "    for th in thresholds:\n",
    "        for top in range(start):\n",
    "            n=np.sum(ranked[grad_clean.shape[0]-start+top:]>=grad_clean.shape[0]//2+1)\n",
    "            fdr=n/(start-top+1-n)\n",
    "            if fdr<th:\n",
    "                print(\"SNPs at \"+str(th)+\"FDR:\",start-top)\n",
    "                scores[th]=start-top+1\n",
    "                values.append(ranked[grad_clean.shape[0]-start+top])\n",
    "                break\n",
    "    values_per_threshold.append(values)       \n",
    "    phenos_scores.append(scores)"
   ]
  },
  {
   "cell_type": "code",
   "execution_count": null,
   "id": "7889e2f2",
   "metadata": {},
   "outputs": [],
   "source": [
    "phenos_scores"
   ]
  },
  {
   "cell_type": "code",
   "execution_count": null,
   "id": "22810307",
   "metadata": {},
   "outputs": [],
   "source": [
    "values_per_threshold"
   ]
  },
  {
   "cell_type": "code",
   "execution_count": null,
   "id": "0e8b2d64",
   "metadata": {},
   "outputs": [],
   "source": [
    "pd.DataFrame(phenos_scores).T.to_csv(\"/ourdisk/hpc/nullspace/adbadre/auto_archive_notyet/tape_2copies/results_final_first_order_other_method.csv\")"
   ]
  }
 ],
 "metadata": {
  "kernelspec": {
   "display_name": "Python 3",
   "language": "python",
   "name": "python3"
  },
  "language_info": {
   "codemirror_mode": {
    "name": "ipython",
    "version": 3
   },
   "file_extension": ".py",
   "mimetype": "text/x-python",
   "name": "python",
   "nbconvert_exporter": "python",
   "pygments_lexer": "ipython3",
   "version": "3.9.12"
  }
 },
 "nbformat": 4,
 "nbformat_minor": 5
}
